{
 "cells": [
  {
   "cell_type": "markdown",
   "metadata": {},
   "source": [
    "## Import the Library"
   ]
  },
  {
   "cell_type": "code",
   "execution_count": 1,
   "metadata": {},
   "outputs": [],
   "source": [
    "from tensorflow.keras.applications.mobilenet_v2 import preprocess_input\n",
    "from tensorflow.keras.preprocessing.image import img_to_array\n",
    "from tensorflow.keras.models import load_model\n",
    "import cv2\n",
    "import os\n",
    "import numpy as np\n",
    "import tensorflow as tf\n",
    "from tensorflow import keras \n",
    "import imutils\n",
    "from imutils.video import VideoStream"
   ]
  },
  {
   "cell_type": "markdown",
   "metadata": {},
   "source": [
    "## Load the model"
   ]
  },
  {
   "cell_type": "code",
   "execution_count": 2,
   "metadata": {},
   "outputs": [],
   "source": [
    "# model that we made for face mask detection\n",
    "model = load_model(r'F:\\face_detection_model (1).h5')\n",
    "\n",
    "# Load the model for face detection\n",
    "prototxtPath = r'F:\\deploy.prototxt'\n",
    "weightsPath = r'F:\\res10_300x300_ssd_iter_140000.caffemodel'"
   ]
  },
  {
   "cell_type": "code",
   "execution_count": 3,
   "metadata": {},
   "outputs": [],
   "source": [
    "net = cv2.dnn.readNet(prototxtPath, weightsPath)"
   ]
  },
  {
   "cell_type": "markdown",
   "metadata": {},
   "source": [
    "## function for detecting mask"
   ]
  },
  {
   "cell_type": "code",
   "execution_count": 4,
   "metadata": {},
   "outputs": [],
   "source": [
    "def detect_and_predict_mask(frame, faceModel, maskModel):\n",
    "    # height and width of the frame\n",
    "    (h, w) = frame.shape[:2]\n",
    "    # pass the frame to the blobfomImage for image processing like resizing and mean subtraction\n",
    "    blob = cv2.dnn.blobFromImage(frame, 1.0, (300, 300),(104.0, 177.0, 123.0))\n",
    "    # pass the blob to the face detection model and predict the faces\n",
    "    faceModel.setInput(blob)\n",
    "    detections = faceModel.forward()\n",
    "    # array defining no of faces in the frames, their corresponding location of faces and predictions\n",
    "    faces = []\n",
    "    locs = []\n",
    "    preds = []\n",
    "    # loop over the detection\n",
    "    for i in range(0, detections.shape[2]):\n",
    "        # store the probability associated with detection\n",
    "        confidence = detections[0, 0, i, 2]\n",
    "        # take only that part whose probability of detecting face is greater that 50%\n",
    "        if confidence > 0.5 :\n",
    "            # x,y coordinates for bounding box for the face\n",
    "            box = detections[0, 0, i, 3:7] * np.array([w, h, w, h])\n",
    "            (startX, startY, endX, endY) = box.astype(\"int\")\n",
    "            # ensure bounding box fall within dimension of frame\n",
    "            (startX, startY) = (max(0, startX), max(0, startY))\n",
    "            (endX, endY) = (min(w - 1, endX), min(h - 1, endY))\n",
    "            # extract the face from image\n",
    "            face = frame[startY:endY, startX:endX]\n",
    "            # convert image from BGR to RGB\n",
    "            face = cv2.cvtColor(face, cv2.COLOR_BGR2RGB)\n",
    "            # Resize the face to (224,224)\n",
    "            face = cv2.resize(face, (224, 224))\n",
    "            # convert the face into array of pixels\n",
    "            face = img_to_array(face)\n",
    "            # preprocess the face\n",
    "            face = preprocess_input(face)\n",
    "            # add the faces and bounding boxes to the defined list\n",
    "            faces.append(face)\n",
    "            locs.append((startX, startY, endX, endY))\n",
    "        # predict when atleast one face is detected\n",
    "        if len(faces) > 0:\\\n",
    "            # convert the faces into the array and pass it to the model for mask detection\n",
    "            faces = np.array(faces, dtype=\"float32\")\n",
    "            preds = maskModel.predict(faces, batch_size=32)\n",
    "    # return the face loaction and corresponding prediction\n",
    "    return (locs, preds)"
   ]
  },
  {
   "cell_type": "markdown",
   "metadata": {},
   "source": [
    "## Detecting Face mask from video stream"
   ]
  },
  {
   "cell_type": "code",
   "execution_count": 7,
   "metadata": {},
   "outputs": [],
   "source": [
    "vs= VideoStream(src=0).start()\n",
    "\n",
    "while True:\n",
    "    # take the frames from the video and resize it to the width of 400\n",
    "    frame=vs.read()\n",
    "    frame=imutils.resize(frame,width=400)\n",
    "    # pass the frames to the function define for face and mask detection and predict the outcome for mask or no mask \n",
    "    (locs,preds)=detect_and_predict_mask(frame,net,model)\n",
    "    #loop over the detected face locations and their corrosponding loactions    \n",
    "    for (box,pred) in zip(locs,preds):\n",
    "        (startX,startY,endX,endY)=box\n",
    "        (mask,withoutMask)=pred        \n",
    "        #determine the class label and color we will use to draw the bounding box and text\n",
    "        if( mask > withoutMask):\n",
    "            label = 'Mask'\n",
    "            color = (0,255,0)\n",
    "        else:\n",
    "            label = 'No Mask'\n",
    "            color = (0,0,255)        \n",
    "        #display the label and bounding boxes\n",
    "        cv2.putText(frame,label,(startX,startY-10),cv2.FONT_HERSHEY_SIMPLEX,0.45,color,2)       \n",
    "        cv2.rectangle(frame,(startX,startY),(endX,endY),color,2)\n",
    "    #show the output frame\n",
    "    cv2.imshow(\"Frame\",frame)\n",
    "    key=cv2.waitKey(1) & 0xFF\n",
    "    if key==ord('q'):\n",
    "        break\n",
    "        \n",
    "cv2.destroyAllWindows()\n",
    "vs.stream.release()\n",
    "vs.stop()"
   ]
  },
  {
   "cell_type": "code",
   "execution_count": null,
   "metadata": {},
   "outputs": [],
   "source": []
  },
  {
   "cell_type": "code",
   "execution_count": null,
   "metadata": {},
   "outputs": [],
   "source": []
  },
  {
   "cell_type": "code",
   "execution_count": 22,
   "metadata": {},
   "outputs": [],
   "source": []
  },
  {
   "cell_type": "code",
   "execution_count": 25,
   "metadata": {},
   "outputs": [],
   "source": []
  },
  {
   "cell_type": "code",
   "execution_count": null,
   "metadata": {},
   "outputs": [],
   "source": []
  }
 ],
 "metadata": {
  "kernelspec": {
   "display_name": "Python 3",
   "language": "python",
   "name": "python3"
  },
  "language_info": {
   "codemirror_mode": {
    "name": "ipython",
    "version": 3
   },
   "file_extension": ".py",
   "mimetype": "text/x-python",
   "name": "python",
   "nbconvert_exporter": "python",
   "pygments_lexer": "ipython3",
   "version": "3.8.5"
  }
 },
 "nbformat": 4,
 "nbformat_minor": 4
}
